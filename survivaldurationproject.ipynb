{
 "cells": [
  {
   "cell_type": "code",
   "execution_count": 3,
   "id": "83d7852b-e709-4eef-a8b2-d3472054cc19",
   "metadata": {},
   "outputs": [
    {
     "name": "stdin",
     "output_type": "stream",
     "text": [
      "Enter the age of the person in years:  34\n"
     ]
    },
    {
     "name": "stdout",
     "output_type": "stream",
     "text": [
      "The person has lived for 408.0 months.\n"
     ]
    }
   ],
   "source": [
    "#defining the function\n",
    "def survival_duration(age):\n",
    "    months_year = 12\n",
    "    survival_months = age * months_year\n",
    "    return {\"Survival Months\": survival_months}\n",
    "\n",
    "# Getting user input\n",
    "age = float(input(\"Enter the age of the person in years: \"))\n",
    "\n",
    "# Calculating the survival duration\n",
    "result = survival_duration(age)\n",
    "\n",
    "# Displaying the result in months\n",
    "print(f\"The person has lived for {result['Survival Months']:} months.\")"
   ]
  },
  {
   "cell_type": "code",
   "execution_count": 4,
   "id": "40e76349-d157-4185-8065-be537914c8f1",
   "metadata": {},
   "outputs": [
    {
     "name": "stdin",
     "output_type": "stream",
     "text": [
      "Enter the age of the person in years:  34\n"
     ]
    },
    {
     "name": "stdout",
     "output_type": "stream",
     "text": [
      "The person has lived for 1774.12 weeks.\n"
     ]
    }
   ],
   "source": [
    "#defining the function\n",
    "def survival_duration(age):\n",
    "    weeks_year = 52.18\n",
    "    survival_weeks = age * weeks_year\n",
    "    return {\"Survival Weeks\": survival_weeks}\n",
    "\n",
    "# Getting user input\n",
    "age = float(input(\"Enter the age of the person in years: \"))\n",
    "\n",
    "# Calculating the survival duration\n",
    "result = survival_duration(age)\n",
    "\n",
    "# Displaying the result in weeks\n",
    "print(f\"The person has lived for {result['Survival Weeks']:} weeks.\")"
   ]
  },
  {
   "cell_type": "code",
   "execution_count": 5,
   "id": "59d1e1fa-f2d3-41fc-abf4-e1ae1ef94938",
   "metadata": {},
   "outputs": [
    {
     "name": "stdin",
     "output_type": "stream",
     "text": [
      "Enter the age of the person in years:  34\n"
     ]
    },
    {
     "name": "stdout",
     "output_type": "stream",
     "text": [
      "The person has lived for 12410.0 days.\n"
     ]
    }
   ],
   "source": [
    "#defining the function\n",
    "def survival_duration(age):\n",
    "    days_year = 365\n",
    "    survival_days = age * days_year\n",
    "    return {\"Survival Days\": survival_days}\n",
    "\n",
    "# Getting user input\n",
    "age = float(input(\"Enter the age of the person in years: \"))\n",
    "\n",
    "# Calculating the survival duration\n",
    "result = survival_duration(age)\n",
    "\n",
    "# Displaying the result in days\n",
    "print(f\"The person has lived for {result['Survival Days']:} days.\")"
   ]
  },
  {
   "cell_type": "code",
   "execution_count": 6,
   "id": "5201faa2-a70b-423c-bac2-510c25af706d",
   "metadata": {},
   "outputs": [
    {
     "name": "stdin",
     "output_type": "stream",
     "text": [
      "Enter the age of the person in years:  34\n"
     ]
    },
    {
     "name": "stdout",
     "output_type": "stream",
     "text": [
      "The person has lived for 297840.0 hours.\n"
     ]
    }
   ],
   "source": [
    "#defining the function\n",
    "def survival_duration(age):\n",
    "    \n",
    "    days_year = 365\n",
    "    hours_day = 24\n",
    "    \n",
    "    survival_days = age * days_year\n",
    "    survival_hours =  survival_days  * hours_day\n",
    "    \n",
    "    \n",
    "    return {\"Survival Hours\": survival_hours}\n",
    "\n",
    "# Getting user input\n",
    "age = float(input(\"Enter the age of the person in years: \"))\n",
    "\n",
    "# Calculating the survival duration\n",
    "result = survival_duration(age)\n",
    "\n",
    "# Displaying the result in hours\n",
    "print(f\"The person has lived for {result['Survival Hours']:} hours.\")"
   ]
  },
  {
   "cell_type": "code",
   "execution_count": 7,
   "id": "51e8d404-108e-445a-8b72-7291355cd886",
   "metadata": {},
   "outputs": [
    {
     "name": "stdin",
     "output_type": "stream",
     "text": [
      "Enter the age of the person in years:  34\n"
     ]
    },
    {
     "name": "stdout",
     "output_type": "stream",
     "text": [
      "The person has lived for 17870400.0 minutes.\n"
     ]
    }
   ],
   "source": [
    "#defining the function\n",
    "def survival_duration(age):\n",
    "    \n",
    "    days_year = 365\n",
    "    hours_day = 24\n",
    "    minutes_hour = 60\n",
    "    survival_days = age * days_year\n",
    "    survival_hours =  survival_days  * hours_day\n",
    "    survival_minutes =  survival_hours  * minutes_hour\n",
    "    \n",
    "    return {\"Survival Minutes\": survival_minutes}\n",
    "\n",
    "# Getting user input\n",
    "age = float(input(\"Enter the age of the person in years: \"))\n",
    "\n",
    "# Calculating the survival duration\n",
    "result = survival_duration(age)\n",
    "\n",
    "# Displaying the result in minutes\n",
    "print(f\"The person has lived for {result['Survival Minutes']:} minutes.\")\n"
   ]
  },
  {
   "cell_type": "code",
   "execution_count": 8,
   "id": "5d1af8b0-7448-4ee7-a19c-a9386427db9a",
   "metadata": {},
   "outputs": [
    {
     "name": "stdin",
     "output_type": "stream",
     "text": [
      "Enter the age of the person in years:  34\n"
     ]
    },
    {
     "name": "stdout",
     "output_type": "stream",
     "text": [
      "The person has lived for 1072224000.0 seconds.\n"
     ]
    }
   ],
   "source": [
    "#defining the function\n",
    "def survival_duration(age):\n",
    "    \n",
    "    days_year = 365\n",
    "    hours_day = 24\n",
    "    minutes_hour = 60\n",
    "    seconds_minute =60\n",
    "    survival_days = age * days_year\n",
    "    survival_hours =  survival_days  * hours_day\n",
    "    survival_minutes =  survival_hours  * minutes_hour\n",
    "    survival_seconds = survival_minutes* seconds_minute\n",
    "    \n",
    "    return {\"Survival seconds\": survival_seconds}\n",
    "\n",
    "# Getting user input\n",
    "age = float(input(\"Enter the age of the person in years: \"))\n",
    "\n",
    "# Calculating the survival duration\n",
    "result = survival_duration(age)\n",
    "\n",
    "# Displaying the result in seconds\n",
    "print(f\"The person has lived for {result['Survival seconds']:} seconds.\")\n"
   ]
  },
  {
   "cell_type": "code",
   "execution_count": 9,
   "id": "57ec4cab-f379-484f-8c62-3fe20aba0312",
   "metadata": {},
   "outputs": [
    {
     "name": "stdin",
     "output_type": "stream",
     "text": [
      "Enter the age of the person in years:  34\n"
     ]
    },
    {
     "name": "stdout",
     "output_type": "stream",
     "text": [
      "The person has lived for 408.0 months.\n",
      "The person has lived for 1774.12 weeks.\n",
      "The person has lived for 12410.0 days.\n",
      "The person has lived for 297840.0 hours.\n",
      "The person has lived for 17870400.0 minutes.\n",
      "The person has lived for 1072224000.0 seconds.\n"
     ]
    }
   ],
   "source": [
    "#defining the function\n",
    "def survival_duration(age):\n",
    "    months_year = 12\n",
    "    weeks_year = 52.18\n",
    "    days_year = 365\n",
    "    hours_day = 24\n",
    "    minutes_hour = 60\n",
    "    seconds_minute =60\n",
    "    \n",
    "    survival_months = age * months_year\n",
    "    survival_weeks = age * weeks_year\n",
    "    survival_days = age * days_year\n",
    "    survival_hours =  survival_days  * hours_day\n",
    "    survival_minutes =  survival_hours  * minutes_hour\n",
    "    survival_seconds = survival_minutes* seconds_minute\n",
    "    \n",
    "    return {\n",
    "        \"Survival Months\": survival_months,\n",
    "       \"Survival Weeks\": survival_weeks,\n",
    "        \"Survival Days\": survival_days,\n",
    "        \"Survival Hours\": survival_hours,\n",
    "        \"Survival Minutes\": survival_minutes,\n",
    "        \"Survival seconds\": survival_seconds}\n",
    "\n",
    "# Getting user input\n",
    "age = float(input(\"Enter the age of the person in years: \"))\n",
    "\n",
    "# Calculating the survival duration\n",
    "result = survival_duration(age)\n",
    "\n",
    "# Displaying the result \n",
    "print(f\"The person has lived for {result['Survival Months']:} months.\")\n",
    "print(f\"The person has lived for {result['Survival Weeks']:} weeks.\")\n",
    "print(f\"The person has lived for {result['Survival Days']:} days.\")\n",
    "print(f\"The person has lived for {result['Survival Hours']:} hours.\")\n",
    "print(f\"The person has lived for {result['Survival Minutes']:} minutes.\")\n",
    "print(f\"The person has lived for {result['Survival seconds']:} seconds.\")\n"
   ]
  },
  {
   "cell_type": "code",
   "execution_count": 10,
   "id": "c10e6c11-ad14-4a90-84ed-777b1e09ba3f",
   "metadata": {},
   "outputs": [
    {
     "name": "stdin",
     "output_type": "stream",
     "text": [
      "Enter the age of the person in years:  34\n"
     ]
    },
    {
     "name": "stdout",
     "output_type": "stream",
     "text": [
      "The person has lived for:\n",
      "408.0  Months\n",
      "1774.12  Weeks\n",
      "12410.0  Days\n",
      "297840.0  Hours\n",
      "17870400.0  Minutes\n",
      "1072224000.0 seconds\n"
     ]
    }
   ],
   "source": [
    "#using for loop for printing the result\n",
    "#defining the function\n",
    "def survival_duration(age):\n",
    "    months_year = 12\n",
    "    weeks_year = 52.18\n",
    "    days_year = 365\n",
    "    hours_day = 24\n",
    "    minutes_hour = 60\n",
    "    seconds_minute =60\n",
    "    \n",
    "    survival_months = age * months_year\n",
    "    survival_weeks = age * weeks_year\n",
    "    survival_days = age * days_year\n",
    "    survival_hours =  survival_days  * hours_day\n",
    "    survival_minutes =  survival_hours  * minutes_hour\n",
    "    survival_seconds = survival_minutes* seconds_minute\n",
    "    \n",
    "    return {\n",
    "        \" Months\": survival_months,\n",
    "       \" Weeks\": survival_weeks,\n",
    "        \" Days\": survival_days,\n",
    "        \" Hours\": survival_hours,\n",
    "        \" Minutes\": survival_minutes,\n",
    "        \"seconds\": survival_seconds}\n",
    "\n",
    "# Getting user input\n",
    "age = float(input(\"Enter the age of the person in years: \"))\n",
    "\n",
    "# Calculating the survival duration\n",
    "result = survival_duration(age)\n",
    "\n",
    "# Displaying the result \n",
    "print(f\"The person has lived for:\")\n",
    "for i , value in result.items():\n",
    "    print(f\"{value:} {i}\")"
   ]
  },
  {
   "cell_type": "code",
   "execution_count": 1,
   "id": "d0ba2f37-bf01-44a2-9258-d01499083cd0",
   "metadata": {},
   "outputs": [
    {
     "name": "stdin",
     "output_type": "stream",
     "text": [
      "Enter your age in years:  37.9\n",
      "Select a time unit from options (months, weeks, days, hours, minutes, seconds):  years\n"
     ]
    },
    {
     "name": "stdout",
     "output_type": "stream",
     "text": [
      "Invalid unit selected.\n"
     ]
    }
   ],
   "source": [
    "# Defining the function to calculate survival duration in various units\n",
    "def survival_duration(age):\n",
    "    months_year = 12\n",
    "    weeks_year = 52.18\n",
    "    days_year = 365\n",
    "    hours_day = 24\n",
    "    minutes_hour = 60\n",
    "    seconds_minute = 60\n",
    "    \n",
    "    # Calculating survival time in different units\n",
    "    survival_months = age * months_year\n",
    "    survival_weeks = age * weeks_year\n",
    "    survival_days = age * days_year\n",
    "    survival_hours = survival_days * hours_day\n",
    "    survival_minutes = survival_hours * minutes_hour\n",
    "    survival_seconds = survival_minutes * seconds_minute\n",
    "    \n",
    "    return {\n",
    "        \"months\": survival_months,\n",
    "        \"weeks\": survival_weeks,\n",
    "        \"days\": survival_days,\n",
    "        \"hours\": survival_hours,\n",
    "        \"minutes\": survival_minutes,\n",
    "        \"seconds\": survival_seconds\n",
    "    }\n",
    "\n",
    "# Main function\n",
    "def main():\n",
    "    # Get user's age as input\n",
    "    age = float(input(\"Enter your age in years: \"))\n",
    "    \n",
    "    # Asking user for the desired time unit\n",
    "    unit = input(\"Select a time unit from options (months, weeks, days, hours, minutes, seconds): \").lower()\n",
    "    \n",
    "    # Validating if the chosen unit is valid\n",
    "    valid_units = [\"months\", \"weeks\", \"days\", \"hours\", \"minutes\", \"seconds\"]\n",
    "    \n",
    "    if unit not in valid_units:\n",
    "        print(\"Invalid unit selected.\")\n",
    "        return\n",
    "    \n",
    "    # Calculating the survival duration\n",
    "    result = survival_duration(age)\n",
    "\n",
    "    \n",
    "    # Displaying the result based on the selected unit\n",
    "    print(f\"The person has lived for: {result[unit]:} {unit}\")\n",
    "\n",
    "# Running the main function\n",
    "main()\n"
   ]
  },
  {
   "cell_type": "code",
   "execution_count": null,
   "id": "cbadcedb-829b-4e95-b071-3abd8d048072",
   "metadata": {},
   "outputs": [],
   "source": []
  }
 ],
 "metadata": {
  "kernelspec": {
   "display_name": "Python 3 (ipykernel)",
   "language": "python",
   "name": "python3"
  },
  "language_info": {
   "codemirror_mode": {
    "name": "ipython",
    "version": 3
   },
   "file_extension": ".py",
   "mimetype": "text/x-python",
   "name": "python",
   "nbconvert_exporter": "python",
   "pygments_lexer": "ipython3",
   "version": "3.11.7"
  }
 },
 "nbformat": 4,
 "nbformat_minor": 5
}
